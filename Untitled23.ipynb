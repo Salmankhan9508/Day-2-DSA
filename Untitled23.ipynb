{
 "cells": [
  {
   "cell_type": "code",
   "execution_count": 1,
   "id": "cf31699d",
   "metadata": {},
   "outputs": [
    {
     "name": "stdout",
     "output_type": "stream",
     "text": [
      "Produced Item 0\n",
      "Consumed Item 0\n",
      "Produced Item 1\n",
      "Consumed Item 1Produced Item 2\n",
      "\n",
      "Produced Item 3\n",
      "Produced Item 4Consumed Item 2\n",
      "\n",
      "Consumed Item 3\n",
      "Consumed Item 4\n",
      "All tasks completed.\n"
     ]
    }
   ],
   "source": [
    "import threading\n",
    "import queue\n",
    "import time\n",
    "\n",
    "# Create a queue\n",
    "q = queue.Queue()\n",
    "\n",
    "# Producer thread function\n",
    "def producer():\n",
    "    for i in range(5):\n",
    "        item = f'Item {i}'\n",
    "        q.put(item)\n",
    "        print(f'Produced {item}')\n",
    "        time.sleep(1)\n",
    "\n",
    "# Consumer thread function\n",
    "def consumer():\n",
    "    while True:\n",
    "        item = q.get()\n",
    "        if item is None:\n",
    "            break\n",
    "        print(f'Consumed {item}')\n",
    "        time.sleep(2)\n",
    "        q.task_done()\n",
    "\n",
    "# Create threads\n",
    "producer_thread = threading.Thread(target=producer)\n",
    "consumer_thread = threading.Thread(target=consumer)\n",
    "\n",
    "# Start threads\n",
    "producer_thread.start()\n",
    "consumer_thread.start()\n",
    "\n",
    "# Wait for producer to finish\n",
    "producer_thread.join()\n",
    "\n",
    "# Stop consumer\n",
    "q.put(None)\n",
    "\n",
    "# Wait for consumer to finish\n",
    "consumer_thread.join()\n",
    "\n",
    "print(\"All tasks completed.\")\n"
   ]
  },
  {
   "cell_type": "code",
   "execution_count": null,
   "id": "cf8950aa",
   "metadata": {},
   "outputs": [],
   "source": []
  }
 ],
 "metadata": {
  "kernelspec": {
   "display_name": "Python 3 (ipykernel)",
   "language": "python",
   "name": "python3"
  },
  "language_info": {
   "codemirror_mode": {
    "name": "ipython",
    "version": 3
   },
   "file_extension": ".py",
   "mimetype": "text/x-python",
   "name": "python",
   "nbconvert_exporter": "python",
   "pygments_lexer": "ipython3",
   "version": "3.11.4"
  }
 },
 "nbformat": 4,
 "nbformat_minor": 5
}
