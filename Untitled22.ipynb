{
 "cells": [
  {
   "cell_type": "code",
   "execution_count": 1,
   "id": "ed0e9bf9",
   "metadata": {},
   "outputs": [
    {
     "name": "stdout",
     "output_type": "stream",
     "text": [
      "Request for floor 3 added to up queue.\n",
      "Request for floor 5 added to up queue.\n",
      "Request for floor 2 added to up queue.\n",
      "Request for floor 1 added to up queue.\n",
      "Moving from floor 0 to floor 3\n",
      "Reached floor 3\n",
      "Moving from floor 3 to floor 5\n",
      "Reached floor 5\n",
      "Moving from floor 5 to floor 2\n",
      "Reached floor 2\n",
      "Moving from floor 2 to floor 1\n",
      "Reached floor 1\n",
      "Changing direction to down.\n",
      "Changing direction to up.\n"
     ]
    }
   ],
   "source": [
    "from queue import Queue\n",
    "\n",
    "class Lift:\n",
    "    def __init__(self, current_floor=0):\n",
    "        self.current_floor = current_floor\n",
    "        self.direction = \"up\"  # 'up' or 'down'\n",
    "        self.up_queue = Queue()  # Requests for going up\n",
    "        self.down_queue = Queue()  # Requests for going down\n",
    "\n",
    "    def add_request(self, floor):\n",
    "        \"\"\"Add floor request based on direction.\"\"\"\n",
    "        if floor > self.current_floor:\n",
    "            print(f\"Request for floor {floor} added to up queue.\")\n",
    "            self.up_queue.put(floor)\n",
    "        else:\n",
    "            print(f\"Request for floor {floor} added to down queue.\")\n",
    "            self.down_queue.put(floor)\n",
    "\n",
    "    def move_lift(self):\n",
    "        \"\"\"Move the lift based on requests in the queue.\"\"\"\n",
    "        if not self.up_queue.empty() and self.direction == \"up\":\n",
    "            next_floor = self.up_queue.get()\n",
    "            self.go_to_floor(next_floor)\n",
    "        elif not self.down_queue.empty() and self.direction == \"down\":\n",
    "            next_floor = self.down_queue.get()\n",
    "            self.go_to_floor(next_floor)\n",
    "        else:\n",
    "            self.change_direction()\n",
    "\n",
    "    def go_to_floor(self, floor):\n",
    "        \"\"\"Move to the requested floor.\"\"\"\n",
    "        print(f\"Moving from floor {self.current_floor} to floor {floor}\")\n",
    "        self.current_floor = floor\n",
    "        print(f\"Reached floor {self.current_floor}\")\n",
    "\n",
    "    def change_direction(self):\n",
    "        \"\"\"Change the direction if one queue is empty.\"\"\"\n",
    "        if self.direction == \"up\" and self.up_queue.empty():\n",
    "            self.direction = \"down\"\n",
    "            print(\"Changing direction to down.\")\n",
    "        elif self.direction == \"down\" and self.down_queue.empty():\n",
    "            self.direction = \"up\"\n",
    "            print(\"Changing direction to up.\")\n",
    "\n",
    "def simulate_lift():\n",
    "    lift = Lift()\n",
    "\n",
    "    # Simulating some requests\n",
    "    lift.add_request(3)\n",
    "    lift.add_request(5)\n",
    "    lift.add_request(2)\n",
    "    lift.add_request(1)\n",
    "\n",
    "    # Simulate the lift moving through the requests\n",
    "    for _ in range(6):  # Assume the lift can handle a few requests\n",
    "        lift.move_lift()\n",
    "\n",
    "if __name__ == \"__main__\":\n",
    "    simulate_lift()\n"
   ]
  },
  {
   "cell_type": "code",
   "execution_count": null,
   "id": "30cfb2f2",
   "metadata": {},
   "outputs": [],
   "source": []
  }
 ],
 "metadata": {
  "kernelspec": {
   "display_name": "Python 3 (ipykernel)",
   "language": "python",
   "name": "python3"
  },
  "language_info": {
   "codemirror_mode": {
    "name": "ipython",
    "version": 3
   },
   "file_extension": ".py",
   "mimetype": "text/x-python",
   "name": "python",
   "nbconvert_exporter": "python",
   "pygments_lexer": "ipython3",
   "version": "3.11.4"
  }
 },
 "nbformat": 4,
 "nbformat_minor": 5
}
